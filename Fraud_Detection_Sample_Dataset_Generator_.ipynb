{
  "nbformat": 4,
  "nbformat_minor": 0,
  "metadata": {
    "colab": {
      "provenance": []
    },
    "kernelspec": {
      "name": "python3",
      "display_name": "Python 3"
    },
    "language_info": {
      "name": "python"
    }
  },
  "cells": [
    {
      "cell_type": "markdown",
      "source": [
        "**Sample Dataset Generator** (src/generate_data.py):"
      ],
      "metadata": {
        "id": "MTOT14dT9cFk"
      }
    },
    {
      "cell_type": "code",
      "execution_count": 1,
      "metadata": {
        "colab": {
          "base_uri": "https://localhost:8080/",
          "height": 106
        },
        "id": "BsTuvMz98-kL",
        "outputId": "8bbcf3c0-d422-449b-cc20-264419a4525b"
      },
      "outputs": [
        {
          "output_type": "error",
          "ename": "SyntaxError",
          "evalue": "invalid syntax (<ipython-input-1-0bd70ffcafa0>, line 1)",
          "traceback": [
            "\u001b[0;36m  File \u001b[0;32m\"<ipython-input-1-0bd70ffcafa0>\"\u001b[0;36m, line \u001b[0;32m1\u001b[0m\n\u001b[0;31m    7. **Sample Dataset Generator** (src/generate_data.py):\u001b[0m\n\u001b[0m                ^\u001b[0m\n\u001b[0;31mSyntaxError\u001b[0m\u001b[0;31m:\u001b[0m invalid syntax\n"
          ]
        }
      ],
      "source": [
        "import pandas as pd\n",
        "import numpy as np\n",
        "\n",
        "def generate_sample_data(num_samples=1000):\n",
        "    np.random.seed(42)\n",
        "    data = {\n",
        "        'V1': np.random.normal(0, 1, num_samples),\n",
        "        'V2': np.random.normal(0, 2, num_samples),\n",
        "        'Amount': np.random.uniform(1, 5000, num_samples),\n",
        "        'Class': np.random.choice([0, 1], num_samples, p=[0.998, 0.002])\n",
        "    }\n",
        "    return pd.DataFrame(data)\n",
        "\n",
        "if __name__ == \"__main__\":\n",
        "    df = generate_sample_data()\n",
        "    df.to_csv('../data/sample_data.csv', index=False)"
      ]
    }
  ]
}